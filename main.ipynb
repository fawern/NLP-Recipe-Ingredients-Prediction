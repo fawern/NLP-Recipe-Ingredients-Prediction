{
  "cells": [
    {
      "cell_type": "code",
      "execution_count": 9,
      "metadata": {
        "id": "okbqKIAhGDuJ"
      },
      "outputs": [],
      "source": [
        "import numpy as np\n",
        "import pandas as pd\n",
        "import matplotlib.pyplot as plt\n",
        "\n",
        "from tensorflow.keras.utils import to_categorical\n",
        "from sklearn.model_selection import train_test_split\n",
        "from tensorflow.keras.preprocessing.text import Tokenizer\n",
        "from tensorflow.keras.preprocessing.sequence import pad_sequences\n",
        "\n",
        "from tensorflow.keras.models import Sequential, load_model\n",
        "from tensorflow.keras.layers import Embedding, GRU, LSTM, Dense, Dropout, Flatten\n",
        "from tensorflow.keras import optimizers\n",
        "from tensorflow.keras.callbacks import EarlyStopping, ModelCheckpoint\n",
        "from tensorflow.keras import losses\n",
        "from tensorflow.keras import metrics"
      ]
    },
    {
      "cell_type": "code",
      "execution_count": 58,
      "metadata": {
        "colab": {
          "base_uri": "https://localhost:8080/"
        },
        "id": "ubmlCBEMGaTf",
        "outputId": "e38b296f-ec4a-448c-bb4b-315a488fdeeb"
      },
      "outputs": [
        {
          "name": "stdout",
          "output_type": "stream",
          "text": [
            "Drive already mounted at /content/drive/; to attempt to forcibly remount, call drive.mount(\"/content/drive/\", force_remount=True).\n"
          ]
        },
        {
          "data": {
            "text/plain": [
              "['train.json', 'test.json']"
            ]
          },
          "execution_count": 58,
          "metadata": {},
          "output_type": "execute_result"
        }
      ],
      "source": [
        "from google.colab import drive\n",
        "import os\n",
        "\n",
        "drive.mount('/content/drive/')\n",
        "\n",
        "path = '/content/drive/MyDrive/Recipe Ingredients Dataset/Datas/'\n",
        "\n",
        "os.listdir(path)"
      ]
    },
    {
      "cell_type": "code",
      "execution_count": 10,
      "metadata": {
        "id": "2eb6mQ1lGDuQ"
      },
      "outputs": [],
      "source": [
        "import warnings\n",
        "warnings.filterwarnings('ignore')"
      ]
    },
    {
      "cell_type": "code",
      "execution_count": 60,
      "metadata": {
        "colab": {
          "base_uri": "https://localhost:8080/",
          "height": 206
        },
        "id": "XDJXypjVGDuQ",
        "outputId": "1483bfa6-d033-4eec-88ca-eddef141503e"
      },
      "outputs": [
        {
          "data": {
            "text/html": [
              "\n",
              "  <div id=\"df-b95afb2b-5fd3-4db9-b3a3-50f28f8648cf\" class=\"colab-df-container\">\n",
              "    <div>\n",
              "<style scoped>\n",
              "    .dataframe tbody tr th:only-of-type {\n",
              "        vertical-align: middle;\n",
              "    }\n",
              "\n",
              "    .dataframe tbody tr th {\n",
              "        vertical-align: top;\n",
              "    }\n",
              "\n",
              "    .dataframe thead th {\n",
              "        text-align: right;\n",
              "    }\n",
              "</style>\n",
              "<table border=\"1\" class=\"dataframe\">\n",
              "  <thead>\n",
              "    <tr style=\"text-align: right;\">\n",
              "      <th></th>\n",
              "      <th>cuisine</th>\n",
              "      <th>ingredients</th>\n",
              "    </tr>\n",
              "  </thead>\n",
              "  <tbody>\n",
              "    <tr>\n",
              "      <th>0</th>\n",
              "      <td>greek</td>\n",
              "      <td>[romaine lettuce, black olives, grape tomatoes...</td>\n",
              "    </tr>\n",
              "    <tr>\n",
              "      <th>1</th>\n",
              "      <td>southern_us</td>\n",
              "      <td>[plain flour, ground pepper, salt, tomatoes, g...</td>\n",
              "    </tr>\n",
              "    <tr>\n",
              "      <th>2</th>\n",
              "      <td>filipino</td>\n",
              "      <td>[eggs, pepper, salt, mayonaise, cooking oil, g...</td>\n",
              "    </tr>\n",
              "    <tr>\n",
              "      <th>3</th>\n",
              "      <td>indian</td>\n",
              "      <td>[water, vegetable oil, wheat, salt]</td>\n",
              "    </tr>\n",
              "    <tr>\n",
              "      <th>4</th>\n",
              "      <td>indian</td>\n",
              "      <td>[black pepper, shallots, cornflour, cayenne pe...</td>\n",
              "    </tr>\n",
              "  </tbody>\n",
              "</table>\n",
              "</div>\n",
              "    <div class=\"colab-df-buttons\">\n",
              "\n",
              "  <div class=\"colab-df-container\">\n",
              "    <button class=\"colab-df-convert\" onclick=\"convertToInteractive('df-b95afb2b-5fd3-4db9-b3a3-50f28f8648cf')\"\n",
              "            title=\"Convert this dataframe to an interactive table.\"\n",
              "            style=\"display:none;\">\n",
              "\n",
              "  <svg xmlns=\"http://www.w3.org/2000/svg\" height=\"24px\" viewBox=\"0 -960 960 960\">\n",
              "    <path d=\"M120-120v-720h720v720H120Zm60-500h600v-160H180v160Zm220 220h160v-160H400v160Zm0 220h160v-160H400v160ZM180-400h160v-160H180v160Zm440 0h160v-160H620v160ZM180-180h160v-160H180v160Zm440 0h160v-160H620v160Z\"/>\n",
              "  </svg>\n",
              "    </button>\n",
              "\n",
              "  <style>\n",
              "    .colab-df-container {\n",
              "      display:flex;\n",
              "      gap: 12px;\n",
              "    }\n",
              "\n",
              "    .colab-df-convert {\n",
              "      background-color: #E8F0FE;\n",
              "      border: none;\n",
              "      border-radius: 50%;\n",
              "      cursor: pointer;\n",
              "      display: none;\n",
              "      fill: #1967D2;\n",
              "      height: 32px;\n",
              "      padding: 0 0 0 0;\n",
              "      width: 32px;\n",
              "    }\n",
              "\n",
              "    .colab-df-convert:hover {\n",
              "      background-color: #E2EBFA;\n",
              "      box-shadow: 0px 1px 2px rgba(60, 64, 67, 0.3), 0px 1px 3px 1px rgba(60, 64, 67, 0.15);\n",
              "      fill: #174EA6;\n",
              "    }\n",
              "\n",
              "    .colab-df-buttons div {\n",
              "      margin-bottom: 4px;\n",
              "    }\n",
              "\n",
              "    [theme=dark] .colab-df-convert {\n",
              "      background-color: #3B4455;\n",
              "      fill: #D2E3FC;\n",
              "    }\n",
              "\n",
              "    [theme=dark] .colab-df-convert:hover {\n",
              "      background-color: #434B5C;\n",
              "      box-shadow: 0px 1px 3px 1px rgba(0, 0, 0, 0.15);\n",
              "      filter: drop-shadow(0px 1px 2px rgba(0, 0, 0, 0.3));\n",
              "      fill: #FFFFFF;\n",
              "    }\n",
              "  </style>\n",
              "\n",
              "    <script>\n",
              "      const buttonEl =\n",
              "        document.querySelector('#df-b95afb2b-5fd3-4db9-b3a3-50f28f8648cf button.colab-df-convert');\n",
              "      buttonEl.style.display =\n",
              "        google.colab.kernel.accessAllowed ? 'block' : 'none';\n",
              "\n",
              "      async function convertToInteractive(key) {\n",
              "        const element = document.querySelector('#df-b95afb2b-5fd3-4db9-b3a3-50f28f8648cf');\n",
              "        const dataTable =\n",
              "          await google.colab.kernel.invokeFunction('convertToInteractive',\n",
              "                                                    [key], {});\n",
              "        if (!dataTable) return;\n",
              "\n",
              "        const docLinkHtml = 'Like what you see? Visit the ' +\n",
              "          '<a target=\"_blank\" href=https://colab.research.google.com/notebooks/data_table.ipynb>data table notebook</a>'\n",
              "          + ' to learn more about interactive tables.';\n",
              "        element.innerHTML = '';\n",
              "        dataTable['output_type'] = 'display_data';\n",
              "        await google.colab.output.renderOutput(dataTable, element);\n",
              "        const docLink = document.createElement('div');\n",
              "        docLink.innerHTML = docLinkHtml;\n",
              "        element.appendChild(docLink);\n",
              "      }\n",
              "    </script>\n",
              "  </div>\n",
              "\n",
              "\n",
              "<div id=\"df-4c68a06e-bbf6-4142-8542-05c0bb8f06cb\">\n",
              "  <button class=\"colab-df-quickchart\" onclick=\"quickchart('df-4c68a06e-bbf6-4142-8542-05c0bb8f06cb')\"\n",
              "            title=\"Suggest charts.\"\n",
              "            style=\"display:none;\">\n",
              "\n",
              "<svg xmlns=\"http://www.w3.org/2000/svg\" height=\"24px\"viewBox=\"0 0 24 24\"\n",
              "     width=\"24px\">\n",
              "    <g>\n",
              "        <path d=\"M19 3H5c-1.1 0-2 .9-2 2v14c0 1.1.9 2 2 2h14c1.1 0 2-.9 2-2V5c0-1.1-.9-2-2-2zM9 17H7v-7h2v7zm4 0h-2V7h2v10zm4 0h-2v-4h2v4z\"/>\n",
              "    </g>\n",
              "</svg>\n",
              "  </button>\n",
              "\n",
              "<style>\n",
              "  .colab-df-quickchart {\n",
              "      --bg-color: #E8F0FE;\n",
              "      --fill-color: #1967D2;\n",
              "      --hover-bg-color: #E2EBFA;\n",
              "      --hover-fill-color: #174EA6;\n",
              "      --disabled-fill-color: #AAA;\n",
              "      --disabled-bg-color: #DDD;\n",
              "  }\n",
              "\n",
              "  [theme=dark] .colab-df-quickchart {\n",
              "      --bg-color: #3B4455;\n",
              "      --fill-color: #D2E3FC;\n",
              "      --hover-bg-color: #434B5C;\n",
              "      --hover-fill-color: #FFFFFF;\n",
              "      --disabled-bg-color: #3B4455;\n",
              "      --disabled-fill-color: #666;\n",
              "  }\n",
              "\n",
              "  .colab-df-quickchart {\n",
              "    background-color: var(--bg-color);\n",
              "    border: none;\n",
              "    border-radius: 50%;\n",
              "    cursor: pointer;\n",
              "    display: none;\n",
              "    fill: var(--fill-color);\n",
              "    height: 32px;\n",
              "    padding: 0;\n",
              "    width: 32px;\n",
              "  }\n",
              "\n",
              "  .colab-df-quickchart:hover {\n",
              "    background-color: var(--hover-bg-color);\n",
              "    box-shadow: 0 1px 2px rgba(60, 64, 67, 0.3), 0 1px 3px 1px rgba(60, 64, 67, 0.15);\n",
              "    fill: var(--button-hover-fill-color);\n",
              "  }\n",
              "\n",
              "  .colab-df-quickchart-complete:disabled,\n",
              "  .colab-df-quickchart-complete:disabled:hover {\n",
              "    background-color: var(--disabled-bg-color);\n",
              "    fill: var(--disabled-fill-color);\n",
              "    box-shadow: none;\n",
              "  }\n",
              "\n",
              "  .colab-df-spinner {\n",
              "    border: 2px solid var(--fill-color);\n",
              "    border-color: transparent;\n",
              "    border-bottom-color: var(--fill-color);\n",
              "    animation:\n",
              "      spin 1s steps(1) infinite;\n",
              "  }\n",
              "\n",
              "  @keyframes spin {\n",
              "    0% {\n",
              "      border-color: transparent;\n",
              "      border-bottom-color: var(--fill-color);\n",
              "      border-left-color: var(--fill-color);\n",
              "    }\n",
              "    20% {\n",
              "      border-color: transparent;\n",
              "      border-left-color: var(--fill-color);\n",
              "      border-top-color: var(--fill-color);\n",
              "    }\n",
              "    30% {\n",
              "      border-color: transparent;\n",
              "      border-left-color: var(--fill-color);\n",
              "      border-top-color: var(--fill-color);\n",
              "      border-right-color: var(--fill-color);\n",
              "    }\n",
              "    40% {\n",
              "      border-color: transparent;\n",
              "      border-right-color: var(--fill-color);\n",
              "      border-top-color: var(--fill-color);\n",
              "    }\n",
              "    60% {\n",
              "      border-color: transparent;\n",
              "      border-right-color: var(--fill-color);\n",
              "    }\n",
              "    80% {\n",
              "      border-color: transparent;\n",
              "      border-right-color: var(--fill-color);\n",
              "      border-bottom-color: var(--fill-color);\n",
              "    }\n",
              "    90% {\n",
              "      border-color: transparent;\n",
              "      border-bottom-color: var(--fill-color);\n",
              "    }\n",
              "  }\n",
              "</style>\n",
              "\n",
              "  <script>\n",
              "    async function quickchart(key) {\n",
              "      const quickchartButtonEl =\n",
              "        document.querySelector('#' + key + ' button');\n",
              "      quickchartButtonEl.disabled = true;  // To prevent multiple clicks.\n",
              "      quickchartButtonEl.classList.add('colab-df-spinner');\n",
              "      try {\n",
              "        const charts = await google.colab.kernel.invokeFunction(\n",
              "            'suggestCharts', [key], {});\n",
              "      } catch (error) {\n",
              "        console.error('Error during call to suggestCharts:', error);\n",
              "      }\n",
              "      quickchartButtonEl.classList.remove('colab-df-spinner');\n",
              "      quickchartButtonEl.classList.add('colab-df-quickchart-complete');\n",
              "    }\n",
              "    (() => {\n",
              "      let quickchartButtonEl =\n",
              "        document.querySelector('#df-4c68a06e-bbf6-4142-8542-05c0bb8f06cb button');\n",
              "      quickchartButtonEl.style.display =\n",
              "        google.colab.kernel.accessAllowed ? 'block' : 'none';\n",
              "    })();\n",
              "  </script>\n",
              "</div>\n",
              "    </div>\n",
              "  </div>\n"
            ],
            "text/plain": [
              "       cuisine                                        ingredients\n",
              "0        greek  [romaine lettuce, black olives, grape tomatoes...\n",
              "1  southern_us  [plain flour, ground pepper, salt, tomatoes, g...\n",
              "2     filipino  [eggs, pepper, salt, mayonaise, cooking oil, g...\n",
              "3       indian                [water, vegetable oil, wheat, salt]\n",
              "4       indian  [black pepper, shallots, cornflour, cayenne pe..."
            ]
          },
          "execution_count": 60,
          "metadata": {},
          "output_type": "execute_result"
        }
      ],
      "source": [
        "train_data = pd.read_json(path + os.listdir(path)[0])\n",
        "test_data = pd.read_json(path + os.listdir(path)[1])\n",
        "\n",
        "data = train_data\n",
        "data = data.drop('id', axis=1)\n",
        "data.head()"
      ]
    },
    {
      "cell_type": "code",
      "execution_count": 104,
      "metadata": {
        "colab": {
          "base_uri": "https://localhost:8080/"
        },
        "id": "pqUQil78RGIx",
        "outputId": "9048d52f-19ee-48c0-89aa-1a220d6c7604"
      },
      "outputs": [
        {
          "name": "stdout",
          "output_type": "stream",
          "text": [
            "Drive already mounted at /content/drive; to attempt to forcibly remount, call drive.mount(\"/content/drive\", force_remount=True).\n"
          ]
        }
      ],
      "source": [
        "from google.colab import drive\n",
        "drive.mount('/content/drive')"
      ]
    },
    {
      "cell_type": "code",
      "execution_count": 12,
      "metadata": {
        "colab": {
          "base_uri": "https://localhost:8080/"
        },
        "id": "0ciswoHKGDuS",
        "outputId": "4a35b6a2-aa9b-4dec-98df-62f2e13da946"
      },
      "outputs": [
        {
          "data": {
            "text/plain": [
              "39774"
            ]
          },
          "execution_count": 12,
          "metadata": {},
          "output_type": "execute_result"
        }
      ],
      "source": [
        "len(data)"
      ]
    },
    {
      "cell_type": "code",
      "execution_count": 15,
      "metadata": {
        "colab": {
          "base_uri": "https://localhost:8080/"
        },
        "id": "6m5UY89qGDuT",
        "outputId": "bff357c0-e246-4da6-cf53-7c2a9a7aff4d"
      },
      "outputs": [
        {
          "name": "stdout",
          "output_type": "stream",
          "text": [
            "Index(['id', 'cuisine', 'ingredients'], dtype='object')\n",
            "Index(['id', 'ingredients'], dtype='object')\n"
          ]
        }
      ],
      "source": [
        "print(train_data.columns)\n",
        "print(test_data.columns)"
      ]
    },
    {
      "cell_type": "code",
      "execution_count": 16,
      "metadata": {
        "colab": {
          "base_uri": "https://localhost:8080/"
        },
        "id": "abVDDzgZGDuT",
        "outputId": "14d956ac-9955-4c9e-8e89-a32f7a32fad6"
      },
      "outputs": [
        {
          "data": {
            "text/plain": [
              "cuisine        False\n",
              "ingredients    False\n",
              "dtype: bool"
            ]
          },
          "execution_count": 16,
          "metadata": {},
          "output_type": "execute_result"
        }
      ],
      "source": [
        "data.isnull().any()"
      ]
    },
    {
      "cell_type": "code",
      "execution_count": 17,
      "metadata": {
        "colab": {
          "base_uri": "https://localhost:8080/"
        },
        "id": "yxiJ3ftgGDuU",
        "outputId": "2a1fd674-7e95-491d-f6b4-1c3ba3bdbba3"
      },
      "outputs": [
        {
          "data": {
            "text/plain": [
              "italian         7838\n",
              "mexican         6438\n",
              "southern_us     4320\n",
              "indian          3003\n",
              "chinese         2673\n",
              "french          2646\n",
              "cajun_creole    1546\n",
              "thai            1539\n",
              "japanese        1423\n",
              "greek           1175\n",
              "spanish          989\n",
              "korean           830\n",
              "vietnamese       825\n",
              "moroccan         821\n",
              "british          804\n",
              "filipino         755\n",
              "irish            667\n",
              "jamaican         526\n",
              "russian          489\n",
              "brazilian        467\n",
              "Name: cuisine, dtype: int64"
            ]
          },
          "execution_count": 17,
          "metadata": {},
          "output_type": "execute_result"
        }
      ],
      "source": [
        "data.cuisine.value_counts()"
      ]
    },
    {
      "cell_type": "code",
      "execution_count": 18,
      "metadata": {
        "id": "fdZnvXSSGDuV"
      },
      "outputs": [],
      "source": [
        "cuisine_dict = {\n",
        "    'italian': 1,\n",
        "    'mexican': 2,\n",
        "    'southern_us': 3,\n",
        "    'indian': 4,\n",
        "    'chinese': 5,\n",
        "    'french': 6,\n",
        "    'cajun_creole': 7,\n",
        "    'thai': 8,\n",
        "    'japanese': 9,\n",
        "    'greek': 10,\n",
        "    'spanish': 11,\n",
        "    'korean': 12,\n",
        "    'vietnamese': 13,\n",
        "    'moroccan': 14,\n",
        "    'british': 15,\n",
        "    'filipino': 16,\n",
        "    'irish': 17,\n",
        "    'jamaican': 18,\n",
        "    'russian': 19,\n",
        "    'brazilian': 20\n",
        "}\n",
        "\n",
        "data['cuisine'] = data['cuisine'].map(cuisine_dict)"
      ]
    },
    {
      "cell_type": "code",
      "execution_count": 19,
      "metadata": {
        "colab": {
          "base_uri": "https://localhost:8080/",
          "height": 206
        },
        "id": "PrCIXFtXGDuW",
        "outputId": "ed35ac79-6cb6-4275-96d5-d3596a3e4968"
      },
      "outputs": [
        {
          "data": {
            "text/html": [
              "<div>\n",
              "<style scoped>\n",
              "    .dataframe tbody tr th:only-of-type {\n",
              "        vertical-align: middle;\n",
              "    }\n",
              "\n",
              "    .dataframe tbody tr th {\n",
              "        vertical-align: top;\n",
              "    }\n",
              "\n",
              "    .dataframe thead th {\n",
              "        text-align: right;\n",
              "    }\n",
              "</style>\n",
              "<table border=\"1\" class=\"dataframe\">\n",
              "  <thead>\n",
              "    <tr style=\"text-align: right;\">\n",
              "      <th></th>\n",
              "      <th>cuisine</th>\n",
              "      <th>ingredients</th>\n",
              "    </tr>\n",
              "  </thead>\n",
              "  <tbody>\n",
              "    <tr>\n",
              "      <th>0</th>\n",
              "      <td>10</td>\n",
              "      <td>[romaine lettuce, black olives, grape tomatoes...</td>\n",
              "    </tr>\n",
              "    <tr>\n",
              "      <th>1</th>\n",
              "      <td>3</td>\n",
              "      <td>[plain flour, ground pepper, salt, tomatoes, g...</td>\n",
              "    </tr>\n",
              "    <tr>\n",
              "      <th>2</th>\n",
              "      <td>16</td>\n",
              "      <td>[eggs, pepper, salt, mayonaise, cooking oil, g...</td>\n",
              "    </tr>\n",
              "    <tr>\n",
              "      <th>3</th>\n",
              "      <td>4</td>\n",
              "      <td>[water, vegetable oil, wheat, salt]</td>\n",
              "    </tr>\n",
              "    <tr>\n",
              "      <th>4</th>\n",
              "      <td>4</td>\n",
              "      <td>[black pepper, shallots, cornflour, cayenne pe...</td>\n",
              "    </tr>\n",
              "  </tbody>\n",
              "</table>\n",
              "</div>"
            ],
            "text/plain": [
              "   cuisine                                        ingredients\n",
              "0       10  [romaine lettuce, black olives, grape tomatoes...\n",
              "1        3  [plain flour, ground pepper, salt, tomatoes, g...\n",
              "2       16  [eggs, pepper, salt, mayonaise, cooking oil, g...\n",
              "3        4                [water, vegetable oil, wheat, salt]\n",
              "4        4  [black pepper, shallots, cornflour, cayenne pe..."
            ]
          },
          "execution_count": 19,
          "metadata": {},
          "output_type": "execute_result"
        }
      ],
      "source": [
        "data.head()"
      ]
    },
    {
      "cell_type": "code",
      "execution_count": 20,
      "metadata": {
        "id": "NZB2J3WtGDuX"
      },
      "outputs": [],
      "source": [
        "y = data['cuisine']\n",
        "X = data['ingredients']\n",
        "\n",
        "y = to_categorical(y)\n",
        "\n",
        "X_train, X_test, y_train, y_test = train_test_split(\n",
        "    X, y, test_size=0.1, random_state=42\n",
        ")"
      ]
    },
    {
      "cell_type": "code",
      "execution_count": 21,
      "metadata": {
        "id": "dbay5tlpGDuY"
      },
      "outputs": [],
      "source": [
        "tokenizer = Tokenizer(num_words=6454)\n",
        "\n",
        "tokenizer.fit_on_texts(X_train)\n",
        "\n",
        "X_train_tokenized = tokenizer.texts_to_sequences(X_train)\n",
        "X_test_tokenized = tokenizer.texts_to_sequences(X_test)"
      ]
    },
    {
      "cell_type": "code",
      "execution_count": 22,
      "metadata": {
        "colab": {
          "base_uri": "https://localhost:8080/"
        },
        "id": "dNDDz8rQue6h",
        "outputId": "6bcbbd75-f2a8-4d65-fe64-93e1fab07420"
      },
      "outputs": [
        {
          "data": {
            "text/plain": [
              "6508"
            ]
          },
          "execution_count": 22,
          "metadata": {},
          "output_type": "execute_result"
        }
      ],
      "source": [
        "num_words = len(tokenizer.word_index)\n",
        "num_words"
      ]
    },
    {
      "cell_type": "code",
      "execution_count": 23,
      "metadata": {
        "colab": {
          "base_uri": "https://localhost:8080/"
        },
        "id": "1UUmc87WGDuZ",
        "outputId": "0723f6f7-8211-4f38-b8c1-c1e18b888afa"
      },
      "outputs": [
        {
          "name": "stdout",
          "output_type": "stream",
          "text": [
            "mean: 10.761100216221653\n",
            "std: 4.428607040840697\n"
          ]
        }
      ],
      "source": [
        "num_tokens = [len(token) for token in X_train_tokenized + X_test_tokenized]\n",
        "\n",
        "print('mean:', np.mean(num_tokens))\n",
        "print('std:', np.std(num_tokens))"
      ]
    },
    {
      "cell_type": "code",
      "execution_count": 24,
      "metadata": {
        "colab": {
          "base_uri": "https://localhost:8080/"
        },
        "id": "syY8Z3duGDuZ",
        "outputId": "ea99a1f8-2eb1-4d35-ae75-58106b90b791"
      },
      "outputs": [
        {
          "data": {
            "text/plain": [
              "18"
            ]
          },
          "execution_count": 24,
          "metadata": {},
          "output_type": "execute_result"
        }
      ],
      "source": [
        "max_token = int(np.mean(num_tokens) + 2 * np.std(num_tokens)) - 1\n",
        "max_token"
      ]
    },
    {
      "cell_type": "code",
      "execution_count": 25,
      "metadata": {
        "colab": {
          "base_uri": "https://localhost:8080/"
        },
        "id": "tnkuvvSnGDuZ",
        "outputId": "c5d7471a-37f9-476e-ea7e-743b0c3def50"
      },
      "outputs": [
        {
          "data": {
            "text/plain": [
              "((35796, 18), (3978, 18))"
            ]
          },
          "execution_count": 25,
          "metadata": {},
          "output_type": "execute_result"
        }
      ],
      "source": [
        "X_train_tokenized_padded = pad_sequences(X_train_tokenized, maxlen=max_token)\n",
        "X_test_tokenized_padded = pad_sequences(X_test_tokenized, maxlen=max_token)\n",
        "\n",
        "X_train_tokenized_padded.shape, X_test_tokenized_padded.shape"
      ]
    },
    {
      "cell_type": "code",
      "execution_count": null,
      "metadata": {
        "colab": {
          "base_uri": "https://localhost:8080/",
          "height": 53
        },
        "id": "TJY2P_xsGDua",
        "outputId": "49c5f6b1-3045-478f-976a-f60f867a4279"
      },
      "outputs": [],
      "source": [
        "'''\n",
        "Embedding(\n",
        "    input_dim,\n",
        "    output_dim,\n",
        "    embeddings_initializer='uniform',\n",
        "    embeddings_regularizer=None,\n",
        "    activity_regularizer=None,\n",
        "    embeddings_constraint=None,\n",
        "    mask_zero=False,\n",
        "    input_length=None,\n",
        "    sparse=False,\n",
        "    **kwargs,\n",
        ")'''"
      ]
    },
    {
      "cell_type": "code",
      "execution_count": null,
      "metadata": {
        "colab": {
          "base_uri": "https://localhost:8080/",
          "height": 53
        },
        "id": "sJgldtUVGDua",
        "outputId": "3a47ef91-f6e2-45d6-bbaf-7b9217e8c78c"
      },
      "outputs": [],
      "source": [
        "'''\n",
        "EarlyStopping(\n",
        "    monitor='val_loss',\n",
        "    min_delta=0,\n",
        "    patience=0,\n",
        "    verbose=0,\n",
        "    mode='auto',\n",
        "    baseline=None,\n",
        "    restore_best_weights=False,\n",
        "    start_from_epoch=0,a\n",
        ")'''"
      ]
    },
    {
      "cell_type": "code",
      "execution_count": 75,
      "metadata": {
        "id": "L204IXmWGDua"
      },
      "outputs": [],
      "source": [
        "def rnn_model(rnn_layer, units, hidden_activation, epochs, output_activation, optimizer, loss_func, check_point_name, use_es):\n",
        "    model = Sequential()\n",
        "\n",
        "    model.add(Embedding(input_dim=10000, output_dim=50, input_length=max_token))\n",
        "\n",
        "    if rnn_layer == 'GRU':\n",
        "\n",
        "        for unit in units:\n",
        "            model.add(GRU(units=unit, activation=hidden_activation, return_sequences=True))\n",
        "            model.add(Dropout(0.1))\n",
        "\n",
        "        model.add(Dense(units=64))\n",
        "\n",
        "        model.add(GRU(units=4, activation=hidden_activation, return_sequences=False))\n",
        "\n",
        "        model.add(Dense(units=21, activation=output_activation))\n",
        "\n",
        "    elif rnn_layer == 'LSTM':\n",
        "\n",
        "        for unit in units:\n",
        "            model.add(GRU(units=unit, activation=hidden_activation, return_sequences=True))\n",
        "            model.add(Dropout(0.1))\n",
        "\n",
        "        model.add(Dense(units=64))\n",
        "\n",
        "        model.add(GRU(units=4, activation=hidden_activation, return_sequences=False))\n",
        "\n",
        "        model.add(Dense(units=21, activation=output_activation))\n",
        "\n",
        "    else:\n",
        "        raise ValueError('Invalid RNN layer type!!!')\n",
        "\n",
        "    model.compile(loss=loss_func, optimizer=optimizer, metrics=['accuracy'])\n",
        "\n",
        "    print(model.summary())\n",
        "\n",
        "    es = EarlyStopping(patience=5)\n",
        "\n",
        "    checkpoint_filepath = \"/content/drive/MyDrive/Recipe Ingredients Dataset/BestModels/best_model_\" + check_point_name + \"checkpoint.h5\"\n",
        "\n",
        "    model_checkpoint_callback = ModelCheckpoint(\n",
        "        filepath=checkpoint_filepath,\n",
        "        monitor='val_accuracy',\n",
        "        mode='max',\n",
        "        save_best_only=True,\n",
        "    )\n",
        "    if use_es:\n",
        "      model_history = model.fit(X_train_tokenized_padded, y_train, epochs=epochs, validation_split=0.1, callbacks=[es, model_checkpoint_callback])\n",
        "\n",
        "    else:\n",
        "      model_history = model.fit(X_train_tokenized_padded, y_train, epochs=epochs, validation_split=0.1, callbacks=[model_checkpoint_callback])\n",
        "\n",
        "\n",
        "    _, accuracy = model.evaluate(X_test_tokenized_padded, y_test)\n",
        "\n",
        "    return accuracy, model_history, model"
      ]
    },
    {
      "cell_type": "code",
      "execution_count": 76,
      "metadata": {
        "id": "BDMioS4uGDub"
      },
      "outputs": [],
      "source": [
        "def loss_plot(model_history):\n",
        "\n",
        "    plt.plot(model_history.history['loss'], label='training loss')\n",
        "    plt.plot(model_history.history['val_loss'], label='validation loss')\n",
        "    plt.legend(['loss', 'val_loss'], loc='upper right')\n",
        "    plt.show()"
      ]
    },
    {
      "cell_type": "markdown",
      "metadata": {
        "id": "SRnuU_2aGDub"
      },
      "source": [
        "- RNN type + .... + Activation Func. + Optimizer.\n",
        "\n",
        "#### Example\n",
        "- gru_model_soft_a : model = GRU, activation = softmax, optimizer = Adam"
      ]
    },
    {
      "cell_type": "markdown",
      "metadata": {},
      "source": [
        "### GRU"
      ]
    },
    {
      "cell_type": "markdown",
      "metadata": {},
      "source": [
        "#### Sigmoid"
      ]
    },
    {
      "cell_type": "markdown",
      "metadata": {},
      "source": [
        "##### Adam"
      ]
    },
    {
      "cell_type": "code",
      "execution_count": 77,
      "metadata": {
        "colab": {
          "base_uri": "https://localhost:8080/"
        },
        "id": "t9jr_bwyGDue",
        "outputId": "5cfb5cb1-ad25-4fe3-e60e-2094decaac73"
      },
      "outputs": [
        {
          "name": "stdout",
          "output_type": "stream",
          "text": [
            "Model: \"sequential_9\"\n",
            "_________________________________________________________________\n",
            " Layer (type)                Output Shape              Param #   \n",
            "=================================================================\n",
            " embedding_9 (Embedding)     (None, 18, 50)            500000    \n",
            "                                                                 \n",
            " gru_45 (GRU)                (None, 18, 64)            22272     \n",
            "                                                                 \n",
            " dropout_36 (Dropout)        (None, 18, 64)            0         \n",
            "                                                                 \n",
            " gru_46 (GRU)                (None, 18, 32)            9408      \n",
            "                                                                 \n",
            " dropout_37 (Dropout)        (None, 18, 32)            0         \n",
            "                                                                 \n",
            " gru_47 (GRU)                (None, 18, 16)            2400      \n",
            "                                                                 \n",
            " dropout_38 (Dropout)        (None, 18, 16)            0         \n",
            "                                                                 \n",
            " gru_48 (GRU)                (None, 18, 8)             624       \n",
            "                                                                 \n",
            " dropout_39 (Dropout)        (None, 18, 8)             0         \n",
            "                                                                 \n",
            " dense_18 (Dense)            (None, 18, 64)            576       \n",
            "                                                                 \n",
            " gru_49 (GRU)                (None, 4)                 840       \n",
            "                                                                 \n",
            " dense_19 (Dense)            (None, 21)                105       \n",
            "                                                                 \n",
            "=================================================================\n",
            "Total params: 536225 (2.05 MB)\n",
            "Trainable params: 536225 (2.05 MB)\n",
            "Non-trainable params: 0 (0.00 Byte)\n",
            "_________________________________________________________________\n",
            "None\n",
            "Epoch 1/25\n",
            "1007/1007 [==============================] - 54s 39ms/step - loss: 2.6396 - accuracy: 0.1949 - val_loss: 2.6169 - val_accuracy: 0.1966\n",
            "Epoch 2/25\n",
            "1007/1007 [==============================] - 20s 20ms/step - loss: 2.5143 - accuracy: 0.2260 - val_loss: 2.2327 - val_accuracy: 0.3344\n",
            "Epoch 3/25\n",
            "1007/1007 [==============================] - 21s 21ms/step - loss: 2.0308 - accuracy: 0.3529 - val_loss: 1.8934 - val_accuracy: 0.3816\n",
            "Epoch 4/25\n",
            "1007/1007 [==============================] - 20s 20ms/step - loss: 1.7230 - accuracy: 0.4167 - val_loss: 1.6859 - val_accuracy: 0.4575\n",
            "Epoch 5/25\n",
            "1007/1007 [==============================] - 22s 22ms/step - loss: 1.4861 - accuracy: 0.5507 - val_loss: 1.4644 - val_accuracy: 0.5804\n",
            "Epoch 6/25\n",
            "1007/1007 [==============================] - 21s 21ms/step - loss: 1.2652 - accuracy: 0.6257 - val_loss: 1.3660 - val_accuracy: 0.6034\n",
            "Epoch 7/25\n",
            "1007/1007 [==============================] - 21s 21ms/step - loss: 1.1538 - accuracy: 0.6616 - val_loss: 1.3180 - val_accuracy: 0.6318\n",
            "Epoch 8/25\n",
            "1007/1007 [==============================] - 20s 19ms/step - loss: 1.0702 - accuracy: 0.6870 - val_loss: 1.3257 - val_accuracy: 0.6279\n",
            "Epoch 9/25\n",
            "1007/1007 [==============================] - 20s 19ms/step - loss: 1.0108 - accuracy: 0.7051 - val_loss: 1.2968 - val_accuracy: 0.6372\n",
            "Epoch 10/25\n",
            "1007/1007 [==============================] - 21s 21ms/step - loss: 0.9559 - accuracy: 0.7175 - val_loss: 1.3155 - val_accuracy: 0.6324\n",
            "Epoch 11/25\n",
            "1007/1007 [==============================] - 20s 20ms/step - loss: 0.9114 - accuracy: 0.7263 - val_loss: 1.2927 - val_accuracy: 0.6391\n",
            "Epoch 12/25\n",
            "1007/1007 [==============================] - 21s 20ms/step - loss: 0.8713 - accuracy: 0.7387 - val_loss: 1.2883 - val_accuracy: 0.6455\n",
            "Epoch 13/25\n",
            "1007/1007 [==============================] - 19s 19ms/step - loss: 0.8334 - accuracy: 0.7525 - val_loss: 1.3254 - val_accuracy: 0.6430\n",
            "Epoch 14/25\n",
            "1007/1007 [==============================] - 20s 20ms/step - loss: 0.7981 - accuracy: 0.7645 - val_loss: 1.3166 - val_accuracy: 0.6478\n",
            "Epoch 15/25\n",
            "1007/1007 [==============================] - 21s 21ms/step - loss: 0.7642 - accuracy: 0.7794 - val_loss: 1.3453 - val_accuracy: 0.6578\n",
            "Epoch 16/25\n",
            "1007/1007 [==============================] - 21s 20ms/step - loss: 0.7401 - accuracy: 0.7887 - val_loss: 1.3511 - val_accuracy: 0.6637\n",
            "Epoch 17/25\n",
            "1007/1007 [==============================] - 20s 20ms/step - loss: 0.7045 - accuracy: 0.8009 - val_loss: 1.3735 - val_accuracy: 0.6603\n",
            "125/125 [==============================] - 1s 9ms/step - loss: 1.3717 - accuracy: 0.6732\n"
          ]
        }
      ],
      "source": [
        "gru_accuracy_sig_a, gru_model_history_sig_a, gru_model_sig_a= rnn_model(\n",
        "    rnn_layer='GRU', units=(64, 32, 16, 8), epochs=25, hidden_activation='tanh',\n",
        "    output_activation='sigmoid', optimizer='adam', loss_func='categorical_crossentropy', check_point_name='gru_model_sig_a', use_es=True\n",
        ")"
      ]
    },
    {
      "cell_type": "code",
      "execution_count": 78,
      "metadata": {
        "colab": {
          "base_uri": "https://localhost:8080/"
        },
        "id": "BQGREwSCGDue",
        "outputId": "90b30b1e-f35c-420e-f82f-c64b1752588f"
      },
      "outputs": [
        {
          "data": {
            "text/plain": [
              "0.673202633857727"
            ]
          },
          "execution_count": 78,
          "metadata": {},
          "output_type": "execute_result"
        }
      ],
      "source": [
        "gru_accuracy_sig_a"
      ]
    },
    {
      "cell_type": "code",
      "execution_count": 79,
      "metadata": {
        "colab": {
          "base_uri": "https://localhost:8080/",
          "height": 430
        },
        "id": "z7_HugIdGDuf",
        "outputId": "fac0042f-4ffa-4a5f-9433-31f924c18f71"
      },
      "outputs": [
        {
          "data": {
            "image/png": "[encoded data removed]",
            "text/plain": [
              "<Figure size 640x480 with 1 Axes>"
            ]
          },
          "metadata": {},
          "output_type": "display_data"
        }
      ],
      "source": [
        "loss_plot(gru_model_history_sig_a)"
      ]
    },
    {
      "cell_type": "markdown",
      "metadata": {},
      "source": [
        "##### RMSprop"
      ]
    },
    {
      "cell_type": "code",
      "execution_count": 80,
      "metadata": {
        "colab": {
          "base_uri": "https://localhost:8080/"
        },
        "id": "ltKmINlAGDuf",
        "outputId": "9a3c64a6-63c2-4f3e-cdd1-132c572ac44c"
      },
      "outputs": [
        {
          "name": "stdout",
          "output_type": "stream",
          "text": [
            "Model: \"sequential_10\"\n",
            "_________________________________________________________________\n",
            " Layer (type)                Output Shape              Param #   \n",
            "=================================================================\n",
            " embedding_10 (Embedding)    (None, 18, 50)            500000    \n",
            "                                                                 \n",
            " gru_50 (GRU)                (None, 18, 64)            22272     \n",
            "                                                                 \n",
            " dropout_40 (Dropout)        (None, 18, 64)            0         \n",
            "                                                                 \n",
            " gru_51 (GRU)                (None, 18, 32)            9408      \n",
            "                                                                 \n",
            " dropout_41 (Dropout)        (None, 18, 32)            0         \n",
            "                                                                 \n",
            " gru_52 (GRU)                (None, 18, 16)            2400      \n",
            "                                                                 \n",
            " dropout_42 (Dropout)        (None, 18, 16)            0         \n",
            "                                                                 \n",
            " gru_53 (GRU)                (None, 18, 8)             624       \n",
            "                                                                 \n",
            " dropout_43 (Dropout)        (None, 18, 8)             0         \n",
            "                                                                 \n",
            " dense_20 (Dense)            (None, 18, 64)            576       \n",
            "                                                                 \n",
            " gru_54 (GRU)                (None, 4)                 840       \n",
            "                                                                 \n",
            " dense_21 (Dense)            (None, 21)                105       \n",
            "                                                                 \n",
            "=================================================================\n",
            "Total params: 536225 (2.05 MB)\n",
            "Trainable params: 536225 (2.05 MB)\n",
            "Non-trainable params: 0 (0.00 Byte)\n",
            "_________________________________________________________________\n",
            "None\n",
            "Epoch 1/25\n",
            "1007/1007 [==============================] - 46s 35ms/step - loss: 2.2609 - accuracy: 0.3463 - val_loss: 1.9049 - val_accuracy: 0.4249\n",
            "Epoch 2/25\n",
            "1007/1007 [==============================] - 20s 20ms/step - loss: 1.7444 - accuracy: 0.4717 - val_loss: 1.6623 - val_accuracy: 0.5128\n",
            "Epoch 3/25\n",
            "1007/1007 [==============================] - 21s 21ms/step - loss: 1.5322 - accuracy: 0.5520 - val_loss: 1.4717 - val_accuracy: 0.5757\n",
            "Epoch 4/25\n",
            "1007/1007 [==============================] - 19s 19ms/step - loss: 1.3771 - accuracy: 0.5973 - val_loss: 1.3890 - val_accuracy: 0.5849\n",
            "Epoch 5/25\n",
            "1007/1007 [==============================] - 19s 19ms/step - loss: 1.2762 - accuracy: 0.6250 - val_loss: 1.3453 - val_accuracy: 0.5978\n",
            "Epoch 6/25\n",
            "1007/1007 [==============================] - 20s 20ms/step - loss: 1.2033 - accuracy: 0.6409 - val_loss: 1.2791 - val_accuracy: 0.6170\n",
            "Epoch 7/25\n",
            "1007/1007 [==============================] - 20s 19ms/step - loss: 1.1515 - accuracy: 0.6507 - val_loss: 1.2602 - val_accuracy: 0.6209\n",
            "Epoch 8/25\n",
            "1007/1007 [==============================] - 19s 19ms/step - loss: 1.1088 - accuracy: 0.6601 - val_loss: 1.2179 - val_accuracy: 0.6279\n",
            "Epoch 9/25\n",
            "1007/1007 [==============================] - 21s 20ms/step - loss: 1.0727 - accuracy: 0.6685 - val_loss: 1.2267 - val_accuracy: 0.6296\n",
            "Epoch 10/25\n",
            "1007/1007 [==============================] - 19s 19ms/step - loss: 1.0381 - accuracy: 0.6782 - val_loss: 1.1939 - val_accuracy: 0.6408\n",
            "Epoch 11/25\n",
            "1007/1007 [==============================] - 20s 20ms/step - loss: 1.0054 - accuracy: 0.6893 - val_loss: 1.2015 - val_accuracy: 0.6422\n",
            "Epoch 12/25\n",
            "1007/1007 [==============================] - 19s 18ms/step - loss: 0.9724 - accuracy: 0.7023 - val_loss: 1.2017 - val_accuracy: 0.6413\n",
            "Epoch 13/25\n",
            "1007/1007 [==============================] - 20s 20ms/step - loss: 0.9418 - accuracy: 0.7138 - val_loss: 1.1908 - val_accuracy: 0.6469\n",
            "Epoch 14/25\n",
            "1007/1007 [==============================] - 20s 20ms/step - loss: 0.9098 - accuracy: 0.7259 - val_loss: 1.1648 - val_accuracy: 0.6648\n",
            "Epoch 15/25\n",
            "1007/1007 [==============================] - 19s 19ms/step - loss: 0.8811 - accuracy: 0.7380 - val_loss: 1.1813 - val_accuracy: 0.6659\n",
            "Epoch 16/25\n",
            "1007/1007 [==============================] - 18s 18ms/step - loss: 0.8556 - accuracy: 0.7465 - val_loss: 1.1744 - val_accuracy: 0.6628\n",
            "Epoch 17/25\n",
            "1007/1007 [==============================] - 20s 20ms/step - loss: 0.8319 - accuracy: 0.7538 - val_loss: 1.1727 - val_accuracy: 0.6648\n",
            "Epoch 18/25\n",
            "1007/1007 [==============================] - 20s 20ms/step - loss: 0.8070 - accuracy: 0.7648 - val_loss: 1.1771 - val_accuracy: 0.6765\n",
            "Epoch 19/25\n",
            "1007/1007 [==============================] - 19s 19ms/step - loss: 0.7882 - accuracy: 0.7714 - val_loss: 1.1808 - val_accuracy: 0.6791\n",
            "125/125 [==============================] - 1s 10ms/step - loss: 1.1333 - accuracy: 0.6817\n"
          ]
        }
      ],
      "source": [
        "gru_accuracy_sig_rms, gru_model_history_sig_rms, gru_model_sig_rms = rnn_model(\n",
        "    rnn_layer='GRU', units=(64, 32, 16, 8), epochs=25, hidden_activation='tanh',\n",
        "    output_activation='sigmoid', optimizer='rmsprop', loss_func='categorical_crossentropy', check_point_name='gru_model_sig_rms', use_es=True\n",
        ")"
      ]
    },
    {
      "cell_type": "code",
      "execution_count": 81,
      "metadata": {
        "colab": {
          "base_uri": "https://localhost:8080/"
        },
        "id": "l1ApZra6GDug",
        "outputId": "7f59b094-c3d3-411c-c83d-e3899b286897"
      },
      "outputs": [
        {
          "data": {
            "text/plain": [
              "0.6817496418952942"
            ]
          },
          "execution_count": 81,
          "metadata": {},
          "output_type": "execute_result"
        }
      ],
      "source": [
        "gru_accuracy_sig_rms"
      ]
    },
    {
      "cell_type": "code",
      "execution_count": 82,
      "metadata": {
        "colab": {
          "base_uri": "https://localhost:8080/",
          "height": 430
        },
        "id": "wSJnDnRcGDug",
        "outputId": "35a5febb-9b0d-40e4-fcc4-6b187e6e81ce"
      },
      "outputs": [
        {
          "data": {
            "image/png": "[encoded data removed]",
            "text/plain": [
              "<Figure size 640x480 with 1 Axes>"
            ]
          },
          "metadata": {},
          "output_type": "display_data"
        }
      ],
      "source": [
        "loss_plot(gru_model_history_sig_rms)"
      ]
    },
    {
      "cell_type": "markdown",
      "metadata": {},
      "source": [
        "#### Softmax"
      ]
    },
    {
      "cell_type": "markdown",
      "metadata": {},
      "source": [
        "##### Adam"
      ]
    },
    {
      "cell_type": "code",
      "execution_count": 83,
      "metadata": {
        "colab": {
          "base_uri": "https://localhost:8080/"
        },
        "id": "cXvDHFtVGDuh",
        "outputId": "901a335d-878b-4bbf-f029-c8da8b80e242"
      },
      "outputs": [
        {
          "name": "stdout",
          "output_type": "stream",
          "text": [
            "Model: \"sequential_11\"\n",
            "_________________________________________________________________\n",
            " Layer (type)                Output Shape              Param #   \n",
            "=================================================================\n",
            " embedding_11 (Embedding)    (None, 18, 50)            500000    \n",
            "                                                                 \n",
            " gru_55 (GRU)                (None, 18, 64)            22272     \n",
            "                                                                 \n",
            " dropout_44 (Dropout)        (None, 18, 64)            0         \n",
            "                                                                 \n",
            " gru_56 (GRU)                (None, 18, 32)            9408      \n",
            "                                                                 \n",
            " dropout_45 (Dropout)        (None, 18, 32)            0         \n",
            "                                                                 \n",
            " gru_57 (GRU)                (None, 18, 16)            2400      \n",
            "                                                                 \n",
            " dropout_46 (Dropout)        (None, 18, 16)            0         \n",
            "                                                                 \n",
            " gru_58 (GRU)                (None, 18, 8)             624       \n",
            "                                                                 \n",
            " dropout_47 (Dropout)        (None, 18, 8)             0         \n",
            "                                                                 \n",
            " dense_22 (Dense)            (None, 18, 64)            576       \n",
            "                                                                 \n",
            " gru_59 (GRU)                (None, 4)                 840       \n",
            "                                                                 \n",
            " dense_23 (Dense)            (None, 21)                105       \n",
            "                                                                 \n",
            "=================================================================\n",
            "Total params: 536225 (2.05 MB)\n",
            "Trainable params: 536225 (2.05 MB)\n",
            "Non-trainable params: 0 (0.00 Byte)\n",
            "_________________________________________________________________\n",
            "None\n",
            "Epoch 1/25\n",
            "1007/1007 [==============================] - 49s 36ms/step - loss: 2.4826 - accuracy: 0.2371 - val_loss: 2.0918 - val_accuracy: 0.3313\n",
            "Epoch 2/25\n",
            "1007/1007 [==============================] - 22s 21ms/step - loss: 1.8931 - accuracy: 0.3754 - val_loss: 1.7883 - val_accuracy: 0.4031\n",
            "Epoch 3/25\n",
            "1007/1007 [==============================] - 22s 21ms/step - loss: 1.6472 - accuracy: 0.4502 - val_loss: 1.6436 - val_accuracy: 0.4707\n",
            "Epoch 4/25\n",
            "1007/1007 [==============================] - 22s 22ms/step - loss: 1.4938 - accuracy: 0.4949 - val_loss: 1.5480 - val_accuracy: 0.4986\n",
            "Epoch 5/25\n",
            "1007/1007 [==============================] - 22s 22ms/step - loss: 1.3097 - accuracy: 0.5948 - val_loss: 1.3561 - val_accuracy: 0.6020\n",
            "Epoch 6/25\n",
            "1007/1007 [==============================] - 20s 20ms/step - loss: 1.1503 - accuracy: 0.6546 - val_loss: 1.3001 - val_accuracy: 0.6187\n",
            "Epoch 7/25\n",
            "1007/1007 [==============================] - 20s 20ms/step - loss: 1.0691 - accuracy: 0.6723 - val_loss: 1.2782 - val_accuracy: 0.6159\n",
            "Epoch 8/25\n",
            "1007/1007 [==============================] - 20s 20ms/step - loss: 1.0054 - accuracy: 0.6906 - val_loss: 1.2934 - val_accuracy: 0.6221\n",
            "Epoch 9/25\n",
            "1007/1007 [==============================] - 21s 21ms/step - loss: 0.9531 - accuracy: 0.7087 - val_loss: 1.2640 - val_accuracy: 0.6388\n",
            "Epoch 10/25\n",
            "1007/1007 [==============================] - 20s 20ms/step - loss: 0.9020 - accuracy: 0.7265 - val_loss: 1.2542 - val_accuracy: 0.6405\n",
            "Epoch 11/25\n",
            "1007/1007 [==============================] - 21s 21ms/step - loss: 0.8556 - accuracy: 0.7457 - val_loss: 1.2671 - val_accuracy: 0.6575\n",
            "Epoch 12/25\n",
            "1007/1007 [==============================] - 19s 19ms/step - loss: 0.8071 - accuracy: 0.7681 - val_loss: 1.2795 - val_accuracy: 0.6520\n",
            "Epoch 13/25\n",
            "1007/1007 [==============================] - 20s 20ms/step - loss: 0.7622 - accuracy: 0.7814 - val_loss: 1.2812 - val_accuracy: 0.6668\n",
            "Epoch 14/25\n",
            "1007/1007 [==============================] - 20s 20ms/step - loss: 0.7249 - accuracy: 0.7919 - val_loss: 1.3005 - val_accuracy: 0.6654\n",
            "Epoch 15/25\n",
            "1007/1007 [==============================] - 19s 19ms/step - loss: 0.6916 - accuracy: 0.8019 - val_loss: 1.3353 - val_accuracy: 0.6559\n",
            "125/125 [==============================] - 1s 8ms/step - loss: 1.3112 - accuracy: 0.6667\n"
          ]
        }
      ],
      "source": [
        "gru_accuracy_soft_a, gru_model_history_soft_a, gru_model_soft_a= rnn_model(\n",
        "    rnn_layer='GRU', units=(64, 32, 16, 8), epochs=25, hidden_activation='tanh',\n",
        "    output_activation='softmax', optimizer='adam', loss_func='categorical_crossentropy', check_point_name='gru_model_soft_a', use_es=True\n",
        ")"
      ]
    },
    {
      "cell_type": "code",
      "execution_count": 84,
      "metadata": {
        "colab": {
          "base_uri": "https://localhost:8080/"
        },
        "id": "Prse8CNvGDuh",
        "outputId": "540fea15-a334-4fdd-f5dd-9a8309ef28b2"
      },
      "outputs": [
        {
          "data": {
            "text/plain": [
              "0.6666666865348816"
            ]
          },
          "execution_count": 84,
          "metadata": {},
          "output_type": "execute_result"
        }
      ],
      "source": [
        "gru_accuracy_soft_a"
      ]
    },
    {
      "cell_type": "code",
      "execution_count": 85,
      "metadata": {
        "colab": {
          "base_uri": "https://localhost:8080/",
          "height": 430
        },
        "id": "g8lDmjD0GDuh",
        "outputId": "8621bac0-33d1-44ed-b140-3e2e06a9bc7e"
      },
      "outputs": [
        {
          "data": {
            "image/png": "[encoded data removed]",
            "text/plain": [
              "<Figure size 640x480 with 1 Axes>"
            ]
          },
          "metadata": {},
          "output_type": "display_data"
        }
      ],
      "source": [
        "loss_plot(gru_model_history_soft_a)"
      ]
    },
    {
      "cell_type": "markdown",
      "metadata": {},
      "source": [
        "##### RMSprop"
      ]
    },
    {
      "cell_type": "code",
      "execution_count": 86,
      "metadata": {
        "colab": {
          "base_uri": "https://localhost:8080/"
        },
        "id": "6PG36UN0GDui",
        "outputId": "fbfc3f75-55c7-495b-ca32-4804d0fddfbc"
      },
      "outputs": [
        {
          "name": "stdout",
          "output_type": "stream",
          "text": [
            "Model: \"sequential_12\"\n",
            "_________________________________________________________________\n",
            " Layer (type)                Output Shape              Param #   \n",
            "=================================================================\n",
            " embedding_12 (Embedding)    (None, 18, 50)            500000    \n",
            "                                                                 \n",
            " gru_60 (GRU)                (None, 18, 64)            22272     \n",
            "                                                                 \n",
            " dropout_48 (Dropout)        (None, 18, 64)            0         \n",
            "                                                                 \n",
            " gru_61 (GRU)                (None, 18, 32)            9408      \n",
            "                                                                 \n",
            " dropout_49 (Dropout)        (None, 18, 32)            0         \n",
            "                                                                 \n",
            " gru_62 (GRU)                (None, 18, 16)            2400      \n",
            "                                                                 \n",
            " dropout_50 (Dropout)        (None, 18, 16)            0         \n",
            "                                                                 \n",
            " gru_63 (GRU)                (None, 18, 8)             624       \n",
            "                                                                 \n",
            " dropout_51 (Dropout)        (None, 18, 8)             0         \n",
            "                                                                 \n",
            " dense_24 (Dense)            (None, 18, 64)            576       \n",
            "                                                                 \n",
            " gru_64 (GRU)                (None, 4)                 840       \n",
            "                                                                 \n",
            " dense_25 (Dense)            (None, 21)                105       \n",
            "                                                                 \n",
            "=================================================================\n",
            "Total params: 536225 (2.05 MB)\n",
            "Trainable params: 536225 (2.05 MB)\n",
            "Non-trainable params: 0 (0.00 Byte)\n",
            "_________________________________________________________________\n",
            "None\n",
            "Epoch 1/25\n",
            "1007/1007 [==============================] - 48s 36ms/step - loss: 2.3518 - accuracy: 0.3546 - val_loss: 1.9218 - val_accuracy: 0.5095\n",
            "Epoch 2/25\n",
            "1007/1007 [==============================] - 20s 20ms/step - loss: 1.7154 - accuracy: 0.5322 - val_loss: 1.5774 - val_accuracy: 0.5615\n",
            "Epoch 3/25\n",
            "1007/1007 [==============================] - 20s 20ms/step - loss: 1.4780 - accuracy: 0.5740 - val_loss: 1.4658 - val_accuracy: 0.5883\n",
            "Epoch 4/25\n",
            "1007/1007 [==============================] - 20s 20ms/step - loss: 1.3516 - accuracy: 0.6126 - val_loss: 1.3653 - val_accuracy: 0.6159\n",
            "Epoch 5/25\n",
            "1007/1007 [==============================] - 20s 20ms/step - loss: 1.2698 - accuracy: 0.6350 - val_loss: 1.3316 - val_accuracy: 0.6246\n",
            "Epoch 6/25\n",
            "1007/1007 [==============================] - 21s 21ms/step - loss: 1.2147 - accuracy: 0.6517 - val_loss: 1.2958 - val_accuracy: 0.6388\n",
            "Epoch 7/25\n",
            "1007/1007 [==============================] - 19s 19ms/step - loss: 1.1555 - accuracy: 0.6688 - val_loss: 1.2489 - val_accuracy: 0.6416\n",
            "Epoch 8/25\n",
            "1007/1007 [==============================] - 20s 20ms/step - loss: 1.1065 - accuracy: 0.6772 - val_loss: 1.2162 - val_accuracy: 0.6469\n",
            "Epoch 9/25\n",
            "1007/1007 [==============================] - 21s 20ms/step - loss: 1.0614 - accuracy: 0.6876 - val_loss: 1.2149 - val_accuracy: 0.6511\n",
            "Epoch 10/25\n",
            "1007/1007 [==============================] - 21s 21ms/step - loss: 1.0207 - accuracy: 0.7002 - val_loss: 1.2003 - val_accuracy: 0.6547\n",
            "Epoch 11/25\n",
            "1007/1007 [==============================] - 20s 20ms/step - loss: 0.9816 - accuracy: 0.7096 - val_loss: 1.2136 - val_accuracy: 0.6455\n",
            "Epoch 12/25\n",
            "1007/1007 [==============================] - 19s 19ms/step - loss: 0.9459 - accuracy: 0.7213 - val_loss: 1.1898 - val_accuracy: 0.6606\n",
            "Epoch 13/25\n",
            "1007/1007 [==============================] - 20s 20ms/step - loss: 0.9138 - accuracy: 0.7296 - val_loss: 1.1668 - val_accuracy: 0.6617\n",
            "Epoch 14/25\n",
            "1007/1007 [==============================] - 23s 22ms/step - loss: 0.8829 - accuracy: 0.7408 - val_loss: 1.1640 - val_accuracy: 0.6701\n",
            "Epoch 15/25\n",
            "1007/1007 [==============================] - 19s 19ms/step - loss: 0.8566 - accuracy: 0.7489 - val_loss: 1.1658 - val_accuracy: 0.6723\n",
            "Epoch 16/25\n",
            "1007/1007 [==============================] - 21s 21ms/step - loss: 0.8282 - accuracy: 0.7599 - val_loss: 1.1556 - val_accuracy: 0.6746\n",
            "Epoch 17/25\n",
            "1007/1007 [==============================] - 18s 18ms/step - loss: 0.8043 - accuracy: 0.7693 - val_loss: 1.1799 - val_accuracy: 0.6735\n",
            "Epoch 18/25\n",
            "1007/1007 [==============================] - 19s 19ms/step - loss: 0.7881 - accuracy: 0.7739 - val_loss: 1.1793 - val_accuracy: 0.6740\n",
            "Epoch 19/25\n",
            "1007/1007 [==============================] - 20s 20ms/step - loss: 0.7613 - accuracy: 0.7826 - val_loss: 1.1823 - val_accuracy: 0.6749\n",
            "Epoch 20/25\n",
            "1007/1007 [==============================] - 19s 19ms/step - loss: 0.7441 - accuracy: 0.7895 - val_loss: 1.2161 - val_accuracy: 0.6712\n",
            "Epoch 21/25\n",
            "1007/1007 [==============================] - 18s 18ms/step - loss: 0.7204 - accuracy: 0.7940 - val_loss: 1.2123 - val_accuracy: 0.6698\n",
            "125/125 [==============================] - 1s 8ms/step - loss: 1.1521 - accuracy: 0.6838\n"
          ]
        }
      ],
      "source": [
        "gru_accuracy_soft_rms, gru_model_history_soft_rms, gru_model_soft_rms = rnn_model(\n",
        "    rnn_layer='GRU', units=(64, 32, 16, 8), epochs=25, hidden_activation='tanh',\n",
        "    output_activation='softmax', optimizer='rmsprop', loss_func='categorical_crossentropy', check_point_name='gru_model_soft_rms', use_es=True\n",
        ")"
      ]
    },
    {
      "cell_type": "code",
      "execution_count": 87,
      "metadata": {
        "colab": {
          "base_uri": "https://localhost:8080/"
        },
        "id": "G2yfz7RgGDuj",
        "outputId": "d2be2159-0060-4db6-edc2-21d18a1c9205"
      },
      "outputs": [
        {
          "data": {
            "text/plain": [
              "0.6837607026100159"
            ]
          },
          "execution_count": 87,
          "metadata": {},
          "output_type": "execute_result"
        }
      ],
      "source": [
        "gru_accuracy_soft_rms"
      ]
    },
    {
      "cell_type": "code",
      "execution_count": 88,
      "metadata": {
        "colab": {
          "base_uri": "https://localhost:8080/",
          "height": 430
        },
        "id": "FaxDLCoDGDuk",
        "outputId": "fe7604e4-3512-4de6-eaef-9ed182ae3569"
      },
      "outputs": [
        {
          "data": {
            "image/png": "[encoded data removed]",
            "text/plain": [
              "<Figure size 640x480 with 1 Axes>"
            ]
          },
          "metadata": {},
          "output_type": "display_data"
        }
      ],
      "source": [
        "loss_plot(gru_model_history_soft_rms)"
      ]
    },
    {
      "cell_type": "markdown",
      "metadata": {},
      "source": [
        "### LSTM"
      ]
    },
    {
      "cell_type": "markdown",
      "metadata": {},
      "source": [
        "#### Sigmoid"
      ]
    },
    {
      "cell_type": "markdown",
      "metadata": {},
      "source": [
        "##### Adam"
      ]
    },
    {
      "cell_type": "code",
      "execution_count": 89,
      "metadata": {
        "colab": {
          "base_uri": "https://localhost:8080/"
        },
        "id": "ObTxsOinGDu3",
        "outputId": "941db71a-096e-41b3-ac56-5e9bdf775131"
      },
      "outputs": [
        {
          "name": "stdout",
          "output_type": "stream",
          "text": [
            "Model: \"sequential_13\"\n",
            "_________________________________________________________________\n",
            " Layer (type)                Output Shape              Param #   \n",
            "=================================================================\n",
            " embedding_13 (Embedding)    (None, 18, 50)            500000    \n",
            "                                                                 \n",
            " gru_65 (GRU)                (None, 18, 64)            22272     \n",
            "                                                                 \n",
            " dropout_52 (Dropout)        (None, 18, 64)            0         \n",
            "                                                                 \n",
            " gru_66 (GRU)                (None, 18, 32)            9408      \n",
            "                                                                 \n",
            " dropout_53 (Dropout)        (None, 18, 32)            0         \n",
            "                                                                 \n",
            " gru_67 (GRU)                (None, 18, 16)            2400      \n",
            "                                                                 \n",
            " dropout_54 (Dropout)        (None, 18, 16)            0         \n",
            "                                                                 \n",
            " gru_68 (GRU)                (None, 18, 8)             624       \n",
            "                                                                 \n",
            " dropout_55 (Dropout)        (None, 18, 8)             0         \n",
            "                                                                 \n",
            " dense_26 (Dense)            (None, 18, 64)            576       \n",
            "                                                                 \n",
            " gru_69 (GRU)                (None, 4)                 840       \n",
            "                                                                 \n",
            " dense_27 (Dense)            (None, 21)                105       \n",
            "                                                                 \n",
            "=================================================================\n",
            "Total params: 536225 (2.05 MB)\n",
            "Trainable params: 536225 (2.05 MB)\n",
            "Non-trainable params: 0 (0.00 Byte)\n",
            "_________________________________________________________________\n",
            "None\n",
            "Epoch 1/25\n",
            "1007/1007 [==============================] - 50s 38ms/step - loss: 2.1669 - accuracy: 0.3971 - val_loss: 1.8224 - val_accuracy: 0.4835\n",
            "Epoch 2/25\n",
            "1007/1007 [==============================] - 22s 22ms/step - loss: 1.6576 - accuracy: 0.5241 - val_loss: 1.5567 - val_accuracy: 0.5648\n",
            "Epoch 3/25\n",
            "1007/1007 [==============================] - 20s 20ms/step - loss: 1.4194 - accuracy: 0.5985 - val_loss: 1.4114 - val_accuracy: 0.5969\n",
            "Epoch 4/25\n",
            "1007/1007 [==============================] - 22s 22ms/step - loss: 1.2642 - accuracy: 0.6435 - val_loss: 1.3189 - val_accuracy: 0.6279\n",
            "Epoch 5/25\n",
            "1007/1007 [==============================] - 20s 20ms/step - loss: 1.1420 - accuracy: 0.6771 - val_loss: 1.2717 - val_accuracy: 0.6366\n",
            "Epoch 6/25\n",
            "1007/1007 [==============================] - 21s 21ms/step - loss: 1.0557 - accuracy: 0.6915 - val_loss: 1.2349 - val_accuracy: 0.6441\n",
            "Epoch 7/25\n",
            "1007/1007 [==============================] - 20s 20ms/step - loss: 0.9969 - accuracy: 0.7000 - val_loss: 1.2333 - val_accuracy: 0.6427\n",
            "Epoch 8/25\n",
            "1007/1007 [==============================] - 20s 19ms/step - loss: 0.9445 - accuracy: 0.7086 - val_loss: 1.2352 - val_accuracy: 0.6402\n",
            "Epoch 9/25\n",
            "1007/1007 [==============================] - 21s 21ms/step - loss: 0.9013 - accuracy: 0.7182 - val_loss: 1.2438 - val_accuracy: 0.6335\n",
            "Epoch 10/25\n",
            "1007/1007 [==============================] - 19s 19ms/step - loss: 0.8635 - accuracy: 0.7274 - val_loss: 1.2586 - val_accuracy: 0.6439\n",
            "Epoch 11/25\n",
            "1007/1007 [==============================] - 21s 21ms/step - loss: 0.8255 - accuracy: 0.7388 - val_loss: 1.2675 - val_accuracy: 0.6478\n",
            "Epoch 12/25\n",
            "1007/1007 [==============================] - 21s 21ms/step - loss: 0.7934 - accuracy: 0.7589 - val_loss: 1.2904 - val_accuracy: 0.6547\n",
            "125/125 [==============================] - 1s 8ms/step - loss: 1.2806 - accuracy: 0.6556\n"
          ]
        }
      ],
      "source": [
        "lstm_accuracy_sig_a, lstm_model_history_sig_a, lstm_model_sig_a = rnn_model(\n",
        "    rnn_layer='LSTM', units=(64, 32, 16, 8), epochs=25, hidden_activation='tanh',\n",
        "    output_activation='sigmoid', optimizer='adam', loss_func='categorical_crossentropy', check_point_name='lstm_model_sig_a', use_es=True\n",
        ")"
      ]
    },
    {
      "cell_type": "code",
      "execution_count": 90,
      "metadata": {
        "colab": {
          "base_uri": "https://localhost:8080/"
        },
        "id": "4dtdmPNQGDu3",
        "outputId": "24abf647-6d82-4ef6-bba9-1f0ec1b95150"
      },
      "outputs": [
        {
          "data": {
            "text/plain": [
              "0.6556058526039124"
            ]
          },
          "execution_count": 90,
          "metadata": {},
          "output_type": "execute_result"
        }
      ],
      "source": [
        "lstm_accuracy_sig_a"
      ]
    },
    {
      "cell_type": "code",
      "execution_count": 91,
      "metadata": {
        "colab": {
          "base_uri": "https://localhost:8080/",
          "height": 430
        },
        "id": "GVnXIaxYGDvB",
        "outputId": "0af30875-ca30-4b62-a402-8039757cf11b"
      },
      "outputs": [
        {
          "data": {
            "image/png": "[encoded data removed]",
            "text/plain": [
              "<Figure size 640x480 with 1 Axes>"
            ]
          },
          "metadata": {},
          "output_type": "display_data"
        }
      ],
      "source": [
        "loss_plot(lstm_model_history_sig_a)"
      ]
    },
    {
      "cell_type": "markdown",
      "metadata": {},
      "source": [
        "##### RMSprop"
      ]
    },
    {
      "cell_type": "code",
      "execution_count": 92,
      "metadata": {
        "colab": {
          "base_uri": "https://localhost:8080/"
        },
        "id": "jVWixUSJSuTH",
        "outputId": "1718452f-5a07-49bc-fa41-a111d357b627"
      },
      "outputs": [
        {
          "name": "stdout",
          "output_type": "stream",
          "text": [
            "Model: \"sequential_14\"\n",
            "_________________________________________________________________\n",
            " Layer (type)                Output Shape              Param #   \n",
            "=================================================================\n",
            " embedding_14 (Embedding)    (None, 18, 50)            500000    \n",
            "                                                                 \n",
            " gru_70 (GRU)                (None, 18, 64)            22272     \n",
            "                                                                 \n",
            " dropout_56 (Dropout)        (None, 18, 64)            0         \n",
            "                                                                 \n",
            " gru_71 (GRU)                (None, 18, 32)            9408      \n",
            "                                                                 \n",
            " dropout_57 (Dropout)        (None, 18, 32)            0         \n",
            "                                                                 \n",
            " gru_72 (GRU)                (None, 18, 16)            2400      \n",
            "                                                                 \n",
            " dropout_58 (Dropout)        (None, 18, 16)            0         \n",
            "                                                                 \n",
            " gru_73 (GRU)                (None, 18, 8)             624       \n",
            "                                                                 \n",
            " dropout_59 (Dropout)        (None, 18, 8)             0         \n",
            "                                                                 \n",
            " dense_28 (Dense)            (None, 18, 64)            576       \n",
            "                                                                 \n",
            " gru_74 (GRU)                (None, 4)                 840       \n",
            "                                                                 \n",
            " dense_29 (Dense)            (None, 21)                105       \n",
            "                                                                 \n",
            "=================================================================\n",
            "Total params: 536225 (2.05 MB)\n",
            "Trainable params: 536225 (2.05 MB)\n",
            "Non-trainable params: 0 (0.00 Byte)\n",
            "_________________________________________________________________\n",
            "None\n",
            "Epoch 1/25\n",
            "1007/1007 [==============================] - 44s 33ms/step - loss: 2.6476 - accuracy: 0.1881 - val_loss: 2.6171 - val_accuracy: 0.1966\n",
            "Epoch 2/25\n",
            "1007/1007 [==============================] - 24s 24ms/step - loss: 2.6054 - accuracy: 0.1974 - val_loss: 2.6150 - val_accuracy: 0.1966\n",
            "Epoch 3/25\n",
            "1007/1007 [==============================] - 20s 20ms/step - loss: 2.6050 - accuracy: 0.1974 - val_loss: 2.6152 - val_accuracy: 0.1966\n",
            "Epoch 4/25\n",
            "1007/1007 [==============================] - 21s 21ms/step - loss: 2.3454 - accuracy: 0.2723 - val_loss: 2.0996 - val_accuracy: 0.3240\n",
            "Epoch 5/25\n",
            "1007/1007 [==============================] - 20s 19ms/step - loss: 1.9434 - accuracy: 0.3479 - val_loss: 1.8723 - val_accuracy: 0.3693\n",
            "Epoch 6/25\n",
            "1007/1007 [==============================] - 20s 20ms/step - loss: 1.7510 - accuracy: 0.4575 - val_loss: 1.7010 - val_accuracy: 0.5327\n",
            "Epoch 7/25\n",
            "1007/1007 [==============================] - 21s 21ms/step - loss: 1.5308 - accuracy: 0.5579 - val_loss: 1.4896 - val_accuracy: 0.5617\n",
            "Epoch 8/25\n",
            "1007/1007 [==============================] - 19s 19ms/step - loss: 1.3984 - accuracy: 0.5844 - val_loss: 1.4078 - val_accuracy: 0.5913\n",
            "Epoch 9/25\n",
            "1007/1007 [==============================] - 20s 19ms/step - loss: 1.2901 - accuracy: 0.6301 - val_loss: 1.3294 - val_accuracy: 0.6338\n",
            "Epoch 10/25\n",
            "1007/1007 [==============================] - 20s 20ms/step - loss: 1.1931 - accuracy: 0.6595 - val_loss: 1.2853 - val_accuracy: 0.6422\n",
            "Epoch 11/25\n",
            "1007/1007 [==============================] - 20s 20ms/step - loss: 1.1221 - accuracy: 0.6796 - val_loss: 1.2375 - val_accuracy: 0.6500\n",
            "Epoch 12/25\n",
            "1007/1007 [==============================] - 20s 20ms/step - loss: 1.0706 - accuracy: 0.6945 - val_loss: 1.2040 - val_accuracy: 0.6539\n",
            "Epoch 13/25\n",
            "1007/1007 [==============================] - 20s 19ms/step - loss: 1.0247 - accuracy: 0.7056 - val_loss: 1.1850 - val_accuracy: 0.6623\n",
            "Epoch 14/25\n",
            "1007/1007 [==============================] - 18s 18ms/step - loss: 0.9874 - accuracy: 0.7151 - val_loss: 1.1554 - val_accuracy: 0.6620\n",
            "Epoch 15/25\n",
            "1007/1007 [==============================] - 19s 19ms/step - loss: 0.9511 - accuracy: 0.7240 - val_loss: 1.1530 - val_accuracy: 0.6589\n",
            "Epoch 16/25\n",
            "1007/1007 [==============================] - 20s 20ms/step - loss: 0.9221 - accuracy: 0.7314 - val_loss: 1.1447 - val_accuracy: 0.6682\n",
            "Epoch 17/25\n",
            "1007/1007 [==============================] - 18s 18ms/step - loss: 0.8971 - accuracy: 0.7367 - val_loss: 1.1394 - val_accuracy: 0.6651\n",
            "Epoch 18/25\n",
            "1007/1007 [==============================] - 19s 19ms/step - loss: 0.8714 - accuracy: 0.7415 - val_loss: 1.1476 - val_accuracy: 0.6696\n",
            "Epoch 19/25\n",
            "1007/1007 [==============================] - 20s 20ms/step - loss: 0.8458 - accuracy: 0.7478 - val_loss: 1.1367 - val_accuracy: 0.6832\n",
            "Epoch 20/25\n",
            "1007/1007 [==============================] - 19s 19ms/step - loss: 0.8256 - accuracy: 0.7544 - val_loss: 1.1230 - val_accuracy: 0.6774\n",
            "Epoch 21/25\n",
            "1007/1007 [==============================] - 19s 19ms/step - loss: 0.8065 - accuracy: 0.7600 - val_loss: 1.1512 - val_accuracy: 0.6768\n",
            "Epoch 22/25\n",
            "1007/1007 [==============================] - 22s 21ms/step - loss: 0.7863 - accuracy: 0.7633 - val_loss: 1.1292 - val_accuracy: 0.6737\n",
            "Epoch 23/25\n",
            "1007/1007 [==============================] - 19s 18ms/step - loss: 0.7644 - accuracy: 0.7697 - val_loss: 1.1454 - val_accuracy: 0.6729\n",
            "Epoch 24/25\n",
            "1007/1007 [==============================] - 19s 19ms/step - loss: 0.7475 - accuracy: 0.7749 - val_loss: 1.1554 - val_accuracy: 0.6704\n",
            "Epoch 25/25\n",
            "1007/1007 [==============================] - 19s 19ms/step - loss: 0.7285 - accuracy: 0.7806 - val_loss: 1.1592 - val_accuracy: 0.6802\n",
            "125/125 [==============================] - 1s 8ms/step - loss: 1.1496 - accuracy: 0.6805\n"
          ]
        }
      ],
      "source": [
        "lstm_accuracy_sig_rms, lstm_model_history_sig_rms, lstm_model_sig_rms = rnn_model(\n",
        "    rnn_layer='LSTM', units=(64, 32, 16, 8), epochs=25, hidden_activation='tanh',\n",
        "    output_activation='sigmoid', optimizer='rmsprop', loss_func='categorical_crossentropy', check_point_name='lstm_model_sig_rms', use_es=True\n",
        ")"
      ]
    },
    {
      "cell_type": "code",
      "execution_count": 93,
      "metadata": {
        "colab": {
          "base_uri": "https://localhost:8080/"
        },
        "id": "8hpGbrOSSx6B",
        "outputId": "12bbe7ad-5afe-4610-d990-4b41a1239245"
      },
      "outputs": [
        {
          "data": {
            "text/plain": [
              "0.6804926991462708"
            ]
          },
          "execution_count": 93,
          "metadata": {},
          "output_type": "execute_result"
        }
      ],
      "source": [
        "lstm_accuracy_sig_rms"
      ]
    },
    {
      "cell_type": "code",
      "execution_count": 94,
      "metadata": {
        "colab": {
          "base_uri": "https://localhost:8080/",
          "height": 430
        },
        "id": "8bQwRsSYSzqQ",
        "outputId": "909583ab-57f9-4cf7-c606-2a5f962237f4"
      },
      "outputs": [
        {
          "data": {
            "image/png": "[encoded data removed]",
            "text/plain": [
              "<Figure size 640x480 with 1 Axes>"
            ]
          },
          "metadata": {},
          "output_type": "display_data"
        }
      ],
      "source": [
        "loss_plot(lstm_model_history_sig_rms)"
      ]
    },
    {
      "cell_type": "markdown",
      "metadata": {},
      "source": [
        "#### Softmax"
      ]
    },
    {
      "cell_type": "markdown",
      "metadata": {},
      "source": [
        "##### Adam"
      ]
    },
    {
      "cell_type": "code",
      "execution_count": 95,
      "metadata": {
        "colab": {
          "base_uri": "https://localhost:8080/"
        },
        "id": "kl3bT8bgGDvC",
        "outputId": "fb846507-22ee-4307-8648-28d720885a1f"
      },
      "outputs": [
        {
          "name": "stdout",
          "output_type": "stream",
          "text": [
            "Model: \"sequential_15\"\n",
            "_________________________________________________________________\n",
            " Layer (type)                Output Shape              Param #   \n",
            "=================================================================\n",
            " embedding_15 (Embedding)    (None, 18, 50)            500000    \n",
            "                                                                 \n",
            " gru_75 (GRU)                (None, 18, 64)            22272     \n",
            "                                                                 \n",
            " dropout_60 (Dropout)        (None, 18, 64)            0         \n",
            "                                                                 \n",
            " gru_76 (GRU)                (None, 18, 32)            9408      \n",
            "                                                                 \n",
            " dropout_61 (Dropout)        (None, 18, 32)            0         \n",
            "                                                                 \n",
            " gru_77 (GRU)                (None, 18, 16)            2400      \n",
            "                                                                 \n",
            " dropout_62 (Dropout)        (None, 18, 16)            0         \n",
            "                                                                 \n",
            " gru_78 (GRU)                (None, 18, 8)             624       \n",
            "                                                                 \n",
            " dropout_63 (Dropout)        (None, 18, 8)             0         \n",
            "                                                                 \n",
            " dense_30 (Dense)            (None, 18, 64)            576       \n",
            "                                                                 \n",
            " gru_79 (GRU)                (None, 4)                 840       \n",
            "                                                                 \n",
            " dense_31 (Dense)            (None, 21)                105       \n",
            "                                                                 \n",
            "=================================================================\n",
            "Total params: 536225 (2.05 MB)\n",
            "Trainable params: 536225 (2.05 MB)\n",
            "Non-trainable params: 0 (0.00 Byte)\n",
            "_________________________________________________________________\n",
            "None\n",
            "Epoch 1/25\n",
            "1007/1007 [==============================] - 50s 38ms/step - loss: 2.5011 - accuracy: 0.2252 - val_loss: 2.1862 - val_accuracy: 0.3249\n",
            "Epoch 2/25\n",
            "1007/1007 [==============================] - 22s 22ms/step - loss: 2.0007 - accuracy: 0.3572 - val_loss: 1.8317 - val_accuracy: 0.3964\n",
            "Epoch 3/25\n",
            "1007/1007 [==============================] - 21s 21ms/step - loss: 1.6895 - accuracy: 0.4319 - val_loss: 1.6733 - val_accuracy: 0.4285\n",
            "Epoch 4/25\n",
            "1007/1007 [==============================] - 20s 20ms/step - loss: 1.5360 - accuracy: 0.4773 - val_loss: 1.5897 - val_accuracy: 0.4578\n",
            "Epoch 5/25\n",
            "1007/1007 [==============================] - 20s 20ms/step - loss: 1.4302 - accuracy: 0.5101 - val_loss: 1.5248 - val_accuracy: 0.4980\n",
            "Epoch 6/25\n",
            "1007/1007 [==============================] - 22s 21ms/step - loss: 1.2999 - accuracy: 0.6117 - val_loss: 1.4167 - val_accuracy: 0.6025\n",
            "Epoch 7/25\n",
            "1007/1007 [==============================] - 20s 20ms/step - loss: 1.1447 - accuracy: 0.6689 - val_loss: 1.3424 - val_accuracy: 0.6128\n",
            "Epoch 8/25\n",
            "1007/1007 [==============================] - 20s 20ms/step - loss: 1.0596 - accuracy: 0.6840 - val_loss: 1.3213 - val_accuracy: 0.6232\n",
            "Epoch 9/25\n",
            "1007/1007 [==============================] - 19s 19ms/step - loss: 1.0023 - accuracy: 0.6974 - val_loss: 1.3121 - val_accuracy: 0.6223\n",
            "Epoch 10/25\n",
            "1007/1007 [==============================] - 20s 20ms/step - loss: 0.9551 - accuracy: 0.7089 - val_loss: 1.3134 - val_accuracy: 0.6296\n",
            "Epoch 11/25\n",
            "1007/1007 [==============================] - 21s 21ms/step - loss: 0.9133 - accuracy: 0.7187 - val_loss: 1.3171 - val_accuracy: 0.6363\n",
            "Epoch 12/25\n",
            "1007/1007 [==============================] - 19s 19ms/step - loss: 0.8748 - accuracy: 0.7346 - val_loss: 1.3409 - val_accuracy: 0.6324\n",
            "Epoch 13/25\n",
            "1007/1007 [==============================] - 20s 20ms/step - loss: 0.8449 - accuracy: 0.7422 - val_loss: 1.3380 - val_accuracy: 0.6413\n",
            "Epoch 14/25\n",
            "1007/1007 [==============================] - 20s 20ms/step - loss: 0.8174 - accuracy: 0.7531 - val_loss: 1.3558 - val_accuracy: 0.6394\n",
            "125/125 [==============================] - 1s 7ms/step - loss: 1.3580 - accuracy: 0.6312\n"
          ]
        }
      ],
      "source": [
        "lstm_accuracy_soft_a, lstm_model_history_soft_a, lstm_model_soft_a = rnn_model(\n",
        "    rnn_layer='LSTM', units=(64, 32, 16, 8), epochs=25, hidden_activation='tanh',\n",
        "    output_activation='softmax', optimizer='adam', loss_func='categorical_crossentropy', check_point_name='lstm_model_soft_a', use_es=True\n",
        ")"
      ]
    },
    {
      "cell_type": "code",
      "execution_count": 96,
      "metadata": {
        "colab": {
          "base_uri": "https://localhost:8080/"
        },
        "id": "mgPS44CBGDvC",
        "outputId": "8f8c10fd-4854-4af3-e050-396fbf6f59ad"
      },
      "outputs": [
        {
          "data": {
            "text/plain": [
              "0.6312217116355896"
            ]
          },
          "execution_count": 96,
          "metadata": {},
          "output_type": "execute_result"
        }
      ],
      "source": [
        "lstm_accuracy_soft_a"
      ]
    },
    {
      "cell_type": "code",
      "execution_count": 97,
      "metadata": {
        "colab": {
          "base_uri": "https://localhost:8080/",
          "height": 430
        },
        "id": "kOYzygYAGDvD",
        "outputId": "2499ecfe-5c97-481d-a2be-4fb44c2d8401"
      },
      "outputs": [
        {
          "data": {
            "image/png": "[encoded data removed]",
            "text/plain": [
              "<Figure size 640x480 with 1 Axes>"
            ]
          },
          "metadata": {},
          "output_type": "display_data"
        }
      ],
      "source": [
        "loss_plot(lstm_model_history_soft_a)"
      ]
    },
    {
      "cell_type": "markdown",
      "metadata": {},
      "source": [
        "##### RMSprop"
      ]
    },
    {
      "cell_type": "code",
      "execution_count": 98,
      "metadata": {
        "colab": {
          "base_uri": "https://localhost:8080/"
        },
        "id": "vcziUFoeGDvD",
        "outputId": "adffbd9d-b480-46ba-b250-66fa2467e9c9"
      },
      "outputs": [
        {
          "name": "stdout",
          "output_type": "stream",
          "text": [
            "Model: \"sequential_16\"\n",
            "_________________________________________________________________\n",
            " Layer (type)                Output Shape              Param #   \n",
            "=================================================================\n",
            " embedding_16 (Embedding)    (None, 18, 50)            500000    \n",
            "                                                                 \n",
            " gru_80 (GRU)                (None, 18, 64)            22272     \n",
            "                                                                 \n",
            " dropout_64 (Dropout)        (None, 18, 64)            0         \n",
            "                                                                 \n",
            " gru_81 (GRU)                (None, 18, 32)            9408      \n",
            "                                                                 \n",
            " dropout_65 (Dropout)        (None, 18, 32)            0         \n",
            "                                                                 \n",
            " gru_82 (GRU)                (None, 18, 16)            2400      \n",
            "                                                                 \n",
            " dropout_66 (Dropout)        (None, 18, 16)            0         \n",
            "                                                                 \n",
            " gru_83 (GRU)                (None, 18, 8)             624       \n",
            "                                                                 \n",
            " dropout_67 (Dropout)        (None, 18, 8)             0         \n",
            "                                                                 \n",
            " dense_32 (Dense)            (None, 18, 64)            576       \n",
            "                                                                 \n",
            " gru_84 (GRU)                (None, 4)                 840       \n",
            "                                                                 \n",
            " dense_33 (Dense)            (None, 21)                105       \n",
            "                                                                 \n",
            "=================================================================\n",
            "Total params: 536225 (2.05 MB)\n",
            "Trainable params: 536225 (2.05 MB)\n",
            "Non-trainable params: 0 (0.00 Byte)\n",
            "_________________________________________________________________\n",
            "None\n",
            "Epoch 1/25\n",
            "1007/1007 [==============================] - 42s 31ms/step - loss: 2.6485 - accuracy: 0.1885 - val_loss: 2.6163 - val_accuracy: 0.1966\n",
            "Epoch 2/25\n",
            "1007/1007 [==============================] - 20s 20ms/step - loss: 2.6050 - accuracy: 0.1974 - val_loss: 2.6165 - val_accuracy: 0.1966\n",
            "Epoch 3/25\n",
            "1007/1007 [==============================] - 20s 20ms/step - loss: 2.4566 - accuracy: 0.2408 - val_loss: 2.1573 - val_accuracy: 0.3159\n",
            "Epoch 4/25\n",
            "1007/1007 [==============================] - 20s 20ms/step - loss: 1.8653 - accuracy: 0.4832 - val_loss: 1.6875 - val_accuracy: 0.5391\n",
            "Epoch 5/25\n",
            "1007/1007 [==============================] - 20s 20ms/step - loss: 1.5903 - accuracy: 0.5477 - val_loss: 1.5464 - val_accuracy: 0.5559\n",
            "Epoch 6/25\n",
            "1007/1007 [==============================] - 20s 19ms/step - loss: 1.4597 - accuracy: 0.5767 - val_loss: 1.4523 - val_accuracy: 0.5779\n",
            "Epoch 7/25\n",
            "1007/1007 [==============================] - 20s 20ms/step - loss: 1.3484 - accuracy: 0.6035 - val_loss: 1.3789 - val_accuracy: 0.5885\n",
            "Epoch 8/25\n",
            "1007/1007 [==============================] - 19s 19ms/step - loss: 1.2618 - accuracy: 0.6262 - val_loss: 1.3167 - val_accuracy: 0.6092\n",
            "Epoch 9/25\n",
            "1007/1007 [==============================] - 19s 19ms/step - loss: 1.1927 - accuracy: 0.6484 - val_loss: 1.2797 - val_accuracy: 0.6156\n",
            "Epoch 10/25\n",
            "1007/1007 [==============================] - 20s 20ms/step - loss: 1.1292 - accuracy: 0.6652 - val_loss: 1.2237 - val_accuracy: 0.6346\n",
            "Epoch 11/25\n",
            "1007/1007 [==============================] - 20s 20ms/step - loss: 1.0777 - accuracy: 0.6847 - val_loss: 1.1827 - val_accuracy: 0.6581\n",
            "Epoch 12/25\n",
            "1007/1007 [==============================] - 20s 19ms/step - loss: 1.0293 - accuracy: 0.7049 - val_loss: 1.1665 - val_accuracy: 0.6696\n",
            "Epoch 13/25\n",
            "1007/1007 [==============================] - 19s 19ms/step - loss: 0.9851 - accuracy: 0.7204 - val_loss: 1.1639 - val_accuracy: 0.6662\n",
            "Epoch 14/25\n",
            "1007/1007 [==============================] - 19s 19ms/step - loss: 0.9495 - accuracy: 0.7314 - val_loss: 1.1501 - val_accuracy: 0.6765\n",
            "Epoch 15/25\n",
            "1007/1007 [==============================] - 19s 19ms/step - loss: 0.9202 - accuracy: 0.7418 - val_loss: 1.1281 - val_accuracy: 0.6835\n",
            "Epoch 16/25\n",
            "1007/1007 [==============================] - 20s 20ms/step - loss: 0.8897 - accuracy: 0.7488 - val_loss: 1.1153 - val_accuracy: 0.6908\n",
            "Epoch 17/25\n",
            "1007/1007 [==============================] - 18s 18ms/step - loss: 0.8652 - accuracy: 0.7545 - val_loss: 1.1165 - val_accuracy: 0.6894\n",
            "Epoch 18/25\n",
            "1007/1007 [==============================] - 18s 18ms/step - loss: 0.8415 - accuracy: 0.7603 - val_loss: 1.1547 - val_accuracy: 0.6849\n",
            "Epoch 19/25\n",
            "1007/1007 [==============================] - 18s 18ms/step - loss: 0.8211 - accuracy: 0.7668 - val_loss: 1.1252 - val_accuracy: 0.6905\n",
            "Epoch 20/25\n",
            "1007/1007 [==============================] - 21s 20ms/step - loss: 0.7984 - accuracy: 0.7711 - val_loss: 1.1242 - val_accuracy: 0.6925\n",
            "Epoch 21/25\n",
            "1007/1007 [==============================] - 18s 18ms/step - loss: 0.7805 - accuracy: 0.7776 - val_loss: 1.1434 - val_accuracy: 0.6899\n",
            "125/125 [==============================] - 1s 8ms/step - loss: 1.1108 - accuracy: 0.6905\n"
          ]
        }
      ],
      "source": [
        "lstm_accuracy_soft_rms, lstm_model_history_soft_rms, lstm_model_soft_rms = rnn_model(\n",
        "    rnn_layer='LSTM', units=(64, 32, 16, 8), epochs=25, hidden_activation='tanh',\n",
        "    output_activation='softmax', optimizer='rmsprop', loss_func='categorical_crossentropy', check_point_name='lstm_model_soft_rms', use_es=True\n",
        ")"
      ]
    },
    {
      "cell_type": "code",
      "execution_count": 99,
      "metadata": {
        "colab": {
          "base_uri": "https://localhost:8080/"
        },
        "id": "JMbOSxtrTZDE",
        "outputId": "ba135695-452d-4c5a-ddc7-b99a36224782"
      },
      "outputs": [
        {
          "data": {
            "text/plain": [
              "0.6905480027198792"
            ]
          },
          "execution_count": 99,
          "metadata": {},
          "output_type": "execute_result"
        }
      ],
      "source": [
        "lstm_accuracy_soft_rms"
      ]
    },
    {
      "cell_type": "code",
      "execution_count": 100,
      "metadata": {
        "colab": {
          "base_uri": "https://localhost:8080/",
          "height": 430
        },
        "id": "LiGOLmYNTaJf",
        "outputId": "b0a791a8-df2e-41ae-81df-23fe38657a58"
      },
      "outputs": [
        {
          "data": {
            "image/png": "[encoded data removed]",
            "text/plain": [
              "<Figure size 640x480 with 1 Axes>"
            ]
          },
          "metadata": {},
          "output_type": "display_data"
        }
      ],
      "source": [
        "loss_plot(lstm_model_history_soft_rms)"
      ]
    }
  ],
  "metadata": {
    "accelerator": "GPU",
    "colab": {
      "gpuType": "T4",
      "provenance": []
    },
    "kernelspec": {
      "display_name": "Python 3",
      "name": "python3"
    },
    "language_info": {
      "codemirror_mode": {
        "name": "ipython",
        "version": 3
      },
      "file_extension": ".py",
      "mimetype": "text/x-python",
      "name": "python",
      "nbconvert_exporter": "python",
      "pygments_lexer": "ipython3",
      "version": "3.11.3"
    },
    "orig_nbformat": 4
  },
  "nbformat": 4,
  "nbformat_minor": 0
}
